{
 "cells": [
  {
   "cell_type": "markdown",
   "metadata": {},
   "source": [
    "# Image-colored wordclouds\n",
    "\n",
    "To summarize a few of the talks given in various meetings, I experimented with a bit with word clouds. Here are some results and python snippets for possible recreation and reference for myself.\n",
    "\n",
    "One of the results from the H.E.S.S. Collaboration Meeting in April 2021 is shown on [twitter](https://twitter.com/hesstelescopes/status/1385168031689711617)."
   ]
  },
  {
   "cell_type": "code",
   "execution_count": null,
   "metadata": {},
   "outputs": [],
   "source": [
    "import os\n",
    "import numpy as np\n",
    "\n",
    "import matplotlib.pyplot as plt\n",
    "%matplotlib inline"
   ]
  },
  {
   "cell_type": "code",
   "execution_count": null,
   "metadata": {},
   "outputs": [],
   "source": [
    "from PIL import Image\n",
    "from scipy.ndimage import gaussian_gradient_magnitude\n",
    "\n",
    "from wordcloud import WordCloud, ImageColorGenerator, STOPWORDS"
   ]
  },
  {
   "cell_type": "markdown",
   "metadata": {},
   "source": [
    "### First example using lots of defaults\n",
    "\n",
    "As example, we use the text from the H.E.S.S. [Source of the Month of May 2021](https://www.mpi-hd.mpg.de/hfm/HESS/pages/home/som/2021/05/)."
   ]
  },
  {
   "cell_type": "code",
   "execution_count": null,
   "metadata": {},
   "outputs": [],
   "source": [
    "# get data directory (using getcwd() is needed to support running example in generated IPython notebook)\n",
    "d = os.path.dirname(__file__) if \"__file__\" in locals() else os.getcwd()\n",
    "text = open(os.path.join(d, 'data/som.txt'), encoding=\"utf-8\").read()\n",
    "\n",
    "# We wanna use HESS as a word, so let's remove its dots \n",
    "text = text.replace('H.E.S.S.','HESS')\n",
    "#print(text)\n",
    "\n",
    "# Create stopword list:\n",
    "stopwords = set(STOPWORDS)\n",
    "#print(stopwords)"
   ]
  },
  {
   "cell_type": "code",
   "execution_count": null,
   "metadata": {},
   "outputs": [],
   "source": [
    "wordcloud = WordCloud(stopwords=stopwords, background_color=\"white\").generate(text)\n",
    "\n",
    "plt.figure()\n",
    "plt.imshow(wordcloud, interpolation='bilinear')\n",
    "plt.axis(\"off\")\n",
    "plt.show()"
   ]
  },
  {
   "cell_type": "markdown",
   "metadata": {},
   "source": [
    "### Second example using the flag of Namibia as general outline\n",
    "\n",
    "https://commons.wikimedia.org/wiki/File:Flag_of_Namibia.svg"
   ]
  },
  {
   "cell_type": "code",
   "execution_count": null,
   "metadata": {},
   "outputs": [],
   "source": [
    "mask = np.array(Image.open(\"data/1920px-Flag_of_Namibia.svg.png\"))\n",
    "image_colors = ImageColorGenerator(mask)"
   ]
  },
  {
   "cell_type": "code",
   "execution_count": null,
   "metadata": {},
   "outputs": [],
   "source": [
    "plt.figure(figsize=[7,7])\n",
    "plt.axis(\"off\")\n",
    "wc_namib = WordCloud(stopwords=stopwords, background_color=\"white\", max_words=10000, mask=mask).generate(text)\n",
    "plt.imshow(wc_namib.recolor(color_func=image_colors), interpolation=\"bilinear\")"
   ]
  },
  {
   "cell_type": "markdown",
   "metadata": {},
   "source": [
    "### Third exmaple of actually using a telescope mask\n",
    "\n",
    "The mask image has been previously created with GIMP by myself. "
   ]
  },
  {
   "cell_type": "code",
   "execution_count": null,
   "metadata": {},
   "outputs": [],
   "source": [
    "ct5_color = np.array(Image.open(\"data/HESS_CT5_mask.png\"))\n",
    "# ct5_color = ct5_color[::3, ::3]\n",
    "ct5_mask = ct5_color.copy()\n",
    "# ct5_mask[ct5_mask.sum(axis=2) == 0] = 255\n",
    "\n",
    "# some finesse: we enforce boundaries between colors so they get less washed out.\n",
    "# For that we do some edge detection in the image\n",
    "edges = np.mean([gaussian_gradient_magnitude(ct5_color[:, :, i] / 255., 2) for i in range(3)], axis=0)\n",
    "ct5_mask[edges > .08] = 255"
   ]
  },
  {
   "cell_type": "code",
   "execution_count": null,
   "metadata": {},
   "outputs": [],
   "source": [
    "plt.figure(figsize=(10, 10))\n",
    "plt.title(\"Original Image\")\n",
    "plt.imshow(ct5_color)\n",
    "\n",
    "plt.figure(figsize=(10, 10))\n",
    "plt.title(\"Edge map\")\n",
    "plt.imshow(edges)\n",
    "plt.show()"
   ]
  },
  {
   "cell_type": "code",
   "execution_count": null,
   "metadata": {},
   "outputs": [],
   "source": [
    "# get data directory (using getcwd() is needed to support running example in generated IPython notebook)\n",
    "d = os.path.dirname(__file__) if \"__file__\" in locals() else os.getcwd()\n",
    "\n",
    "text = open(os.path.join(d, 'data/som.txt'), encoding=\"utf-8\").read()\n",
    "text = text.replace('H.E.S.S.','HESS')\n",
    "\n",
    "# Create stopword list:\n",
    "stopwords = set(STOPWORDS)\n",
    "stopwords.update([\"e.g.\",\"still\",\"due\",\"e\",\"g\"])\n",
    "stopwords.update([\"collaboration\",\"Figure\",\"Fig\",\"April\"])"
   ]
  },
  {
   "cell_type": "code",
   "execution_count": null,
   "metadata": {
    "scrolled": false
   },
   "outputs": [],
   "source": [
    "# create wordcloud. A bit sluggish, you can subsample more strongly for quicker rendering\n",
    "# relative_scaling=0 means the frequencies in the data are reflected less\n",
    "# acurately but it makes a better picture\n",
    "wc = WordCloud(max_words=20000, mask=ct5_mask,stopwords=stopwords,colormap='YlOrRd') \n",
    "###,contour_width=0.1, contour_color='grey')\n",
    "\n",
    "# generate word cloud\n",
    "wc.generate(text)\n",
    "plt.figure(figsize=(30, 30))\n",
    "plt.axis(\"off\")\n",
    "plt.imshow(wc, interpolation=\"bilinear\")"
   ]
  },
  {
   "cell_type": "markdown",
   "metadata": {},
   "source": [
    "# Summary\n",
    "\n",
    "The above gives a quick idea of what can be done to summarize a text in an image. Its a nice tool if you already have lots of text, and you can simply remove a few words of the text which seem not so useful, e.g. references to figures etc. \n",
    "\n",
    "### Take home message\n",
    "\n",
    "If you only have slides in pdf format, the whole thing is a bit more tricky as some conversion will be needed (and if the slides have footers or headers the result might be biased towards the presentation title or speaker - same applies to slides where on every new slide just one bullet point gets added). \n",
    "\n",
    "In any case, to convert pdf slides into text, simply use 'pdftotext' on the linux command line. "
   ]
  }
 ],
 "metadata": {
  "kernelspec": {
   "display_name": "Python 3",
   "language": "python",
   "name": "python3"
  },
  "language_info": {
   "codemirror_mode": {
    "name": "ipython",
    "version": 3
   },
   "file_extension": ".py",
   "mimetype": "text/x-python",
   "name": "python",
   "nbconvert_exporter": "python",
   "pygments_lexer": "ipython3",
   "version": "3.7.7"
  }
 },
 "nbformat": 4,
 "nbformat_minor": 2
}
